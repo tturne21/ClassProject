{
 "cells": [
  {
   "cell_type": "markdown",
   "metadata": {},
   "source": [
    "# Week 6 - Exploratory Data Analysis (EDA) with Python\n",
    "\n",
    "## Introduction to EDA\n",
    "Exploratory Data Analysis is a critical step in the data analysis process which involves analyzing datasets to summarize their main characteristics, often using statistical graphics and other data visualization methods. It allows data analysts to uncover patterns, spot anomalies, test a hypothesis, or check assumptions with the help of summary statistics and graphical representations.\n",
    "\n",
    "## Objectives:\n",
    "- Understand the principles of Exploratory Data Analysis.\n",
    "- Learn to conduct a basic EDA using Python.\n",
    "- Familiarize with Python libraries like Pandas, NumPy, and Matplotlib for data analysis.\n",
    "\n",
    "## Topics Covered:\n",
    "- Data Ingestion\n",
    "- Data Cleaning\n",
    "- Univariate Analysis\n",
    "- Bivariate and Multivariate Analysis\n",
    "- Data Transformation and Feature Engineering\n",
    "- Outlier Detection\n",
    "- Use of Statistical Methods\n",
    "- Data Visualization\n",
    "\n",
    "## Activities:\n",
    "\n",
    "### Data Ingestion and Cleaning:\n",
    "```python\n",
    "import pandas as pd\n",
    "\n",
    "# Loading the dataset\n",
    "df = pd.read_csv('dataset.csv')"
   ]
  },
  {
   "cell_type": "markdown",
   "metadata": {},
   "source": [
    "## Data Profiling"
   ]
  },
  {
   "cell_type": "code",
   "execution_count": null,
   "metadata": {},
   "outputs": [],
   "source": [
    "# Inspecting the first few rows\n",
    "print(df.head())\n",
    "\n",
    "# View data types and non-null counts for each column\n",
    "print(df.info())\n",
    "\n",
    "# Descriptive statistics\n",
    "print(df.describe())"
   ]
  },
  {
   "cell_type": "markdown",
   "metadata": {},
   "source": [
    "## Variable Identification"
   ]
  },
  {
   "cell_type": "code",
   "execution_count": null,
   "metadata": {},
   "outputs": [],
   "source": [
    "# Categorize variables by type\n",
    "categorical = df.select_dtypes(include=['object']).columns.tolist()\n",
    "numerical = df.select_dtypes(include=['int64', 'float64']).columns.tolist()"
   ]
  },
  {
   "cell_type": "markdown",
   "metadata": {},
   "source": [
    "## Data Cleaning"
   ]
  },
  {
   "cell_type": "code",
   "execution_count": null,
   "metadata": {},
   "outputs": [],
   "source": [
    "# Handling missing values\n",
    "df.dropna(inplace=True)  # Drop rows with missing values\n",
    "df.fillna(0, inplace=True)  # Fill missing values with zeros\n",
    "\n",
    "# Correcting data types\n",
    "df['column_name'] = df['column_name'].astype('int')  # Convert column to integer type"
   ]
  },
  {
   "cell_type": "markdown",
   "metadata": {},
   "source": [
    "## Univariate Analysis"
   ]
  },
  {
   "cell_type": "code",
   "execution_count": null,
   "metadata": {},
   "outputs": [],
   "source": [
    "import matplotlib.pyplot as plt\n",
    "\n",
    "# Histogram for numerical data\n",
    "df['numerical_column'].hist(bins=50)\n",
    "plt.show()\n",
    "\n",
    "# Bar chart for categorical data\n",
    "df['categorical_column'].value_counts().plot(kind='bar')\n",
    "plt.show()"
   ]
  },
  {
   "cell_type": "markdown",
   "metadata": {},
   "source": [
    "## Bivariate/Multivariate Analysis"
   ]
  },
  {
   "cell_type": "code",
   "execution_count": null,
   "metadata": {},
   "outputs": [],
   "source": [
    "# Scatter plot for numerical variable relationships\n",
    "plt.scatter(df['numerical_column_1'], df['numerical_column_2'])\n",
    "plt.xlabel('Column 1')\n",
    "plt.ylabel('Column 2')\n",
    "plt.show()\n",
    "\n",
    "# Correlation matrix\n",
    "correlation_matrix = df[numerical].corr()\n",
    "print(correlation_matrix)"
   ]
  },
  {
   "cell_type": "markdown",
   "metadata": {},
   "source": [
    "## Handling Outliers"
   ]
  },
  {
   "cell_type": "code",
   "execution_count": null,
   "metadata": {},
   "outputs": [],
   "source": [
    "# Box plot to visualize outliers\n",
    "df.boxplot(column=['numerical_column'])\n",
    "plt.show()"
   ]
  },
  {
   "cell_type": "markdown",
   "metadata": {},
   "source": [
    "## Feature Engineering"
   ]
  },
  {
   "cell_type": "code",
   "execution_count": null,
   "metadata": {},
   "outputs": [],
   "source": [
    "# Create a new feature\n",
    "df['new_feature'] = df['numerical_column_1'] / df['numerical_column_2']"
   ]
  },
  {
   "cell_type": "markdown",
   "metadata": {},
   "source": [
    "## Data Transformation"
   ]
  },
  {
   "cell_type": "code",
   "execution_count": null,
   "metadata": {},
   "outputs": [],
   "source": [
    "# Log transformation\n",
    "df['log_transformed'] = np.log(df['numerical_column'] + 1)"
   ]
  },
  {
   "cell_type": "markdown",
   "metadata": {},
   "source": [
    "## Correlation Analysis"
   ]
  },
  {
   "cell_type": "code",
   "execution_count": null,
   "metadata": {},
   "outputs": [],
   "source": [
    "# Heatmap of correlation matrix\n",
    "import seaborn as sns\n",
    "\n",
    "sns.heatmap(correlation_matrix, annot=True, cmap='coolwarm')\n",
    "plt.show()"
   ]
  },
  {
   "cell_type": "markdown",
   "metadata": {},
   "source": [
    "## Documentation & Iterative Analysis\n",
    "\n",
    "Ensure all steps and findings are well-documented, which is crucial for reproducibility and communication with others. The analysis should be iterative, refining techniques based on insights as they emerge.\n",
    "\n",
    "## Conclusion\n",
    "\n",
    "These techniques and visualizations form the backbone of EDA in Python. They enable the analyst to understand the data's structure, relationships, and patterns before proceeding to more complex analyses or building predictive models."
   ]
  }
 ],
 "metadata": {
  "kernelspec": {
   "display_name": "Python 3",
   "language": "python",
   "name": "python3"
  },
  "language_info": {
   "codemirror_mode": {
    "name": "ipython",
    "version": 3
   },
   "file_extension": ".py",
   "mimetype": "text/x-python",
   "name": "python",
   "nbconvert_exporter": "python",
   "pygments_lexer": "ipython3",
   "version": "3.10.11"
  }
 },
 "nbformat": 4,
 "nbformat_minor": 2
}
